{
 "cells": [
  {
   "cell_type": "markdown",
   "id": "f8a49442-abda-42b0-b853-c20597dd89cd",
   "metadata": {},
   "source": [
    "# 1. Write a Python Program to Find the Factorial of a Number?"
   ]
  },
  {
   "cell_type": "code",
   "execution_count": 3,
   "id": "8c0e1b4e-3a44-4ddd-b0e1-38850097c800",
   "metadata": {},
   "outputs": [
    {
     "name": "stdout",
     "output_type": "stream",
     "text": [
      "720\n"
     ]
    }
   ],
   "source": [
    "factorial = 1\n",
    "for i in range (6, 1, -1):\n",
    "    factorial = factorial *i\n",
    "print(factorial)"
   ]
  },
  {
   "cell_type": "code",
   "execution_count": 30,
   "id": "385b63d0-6344-4d63-859b-6c4369015820",
   "metadata": {},
   "outputs": [
    {
     "name": "stdout",
     "output_type": "stream",
     "text": [
      "720\n"
     ]
    }
   ],
   "source": [
    "def fact_num(digit):\n",
    "    factorial = 1\n",
    "    for i in range (6, 1, -1):\n",
    "        factorial = factorial *i\n",
    "print(factorial)"
   ]
  },
  {
   "cell_type": "code",
   "execution_count": 26,
   "id": "d8938d69-89aa-47f5-8114-1a8412245aad",
   "metadata": {},
   "outputs": [
    {
     "data": {
      "text/plain": [
       "3628800"
      ]
     },
     "execution_count": 26,
     "metadata": {},
     "output_type": "execute_result"
    }
   ],
   "source": [
    "import math\n",
    "math.factorial(10)"
   ]
  },
  {
   "cell_type": "markdown",
   "id": "8e5e0051-6d9c-420b-84cd-84af7cdc98d5",
   "metadata": {},
   "source": [
    "# 2. Write a Python Program to Display the multiplication Table?"
   ]
  },
  {
   "cell_type": "code",
   "execution_count": 38,
   "id": "13961296-a0de-40a9-8083-fb75c1015368",
   "metadata": {},
   "outputs": [
    {
     "name": "stdout",
     "output_type": "stream",
     "text": [
      "5 x 1  = 5\n",
      "5 x 2  = 10\n",
      "5 x 3  = 15\n",
      "5 x 4  = 20\n",
      "5 x 5  = 25\n",
      "5 x 6  = 30\n",
      "5 x 7  = 35\n",
      "5 x 8  = 40\n",
      "5 x 9  = 45\n",
      "5 x 10  = 50\n"
     ]
    }
   ],
   "source": [
    "number = 5\n",
    "for i in range(1, 11):\n",
    "#    print(number * i)\n",
    "     print(f\"{number} x {i}  = {number * i}\")"
   ]
  },
  {
   "cell_type": "markdown",
   "id": "ac6f00c6-226d-4eba-98dc-4efc0888bf6f",
   "metadata": {},
   "source": [
    "# 3. Write a Python Program to Print the Fibonacci sequence?"
   ]
  },
  {
   "cell_type": "code",
   "execution_count": null,
   "id": "104e08c4-bbf9-4a9a-ae67-9c771d63d04e",
   "metadata": {},
   "outputs": [],
   "source": [
    "def my_fibonacci(n):\n",
    "    fib_list = [ ]\n",
    "    a,b = 0 , 1\n",
    "    for _ in range(n):\n",
    "        fib_list.append(a)\n",
    "        a, b = b , a+b\n",
    "    return fib_list\n",
    "my_"
   ]
  },
  {
   "cell_type": "code",
   "execution_count": 13,
   "id": "fb04c5de-b19a-4d94-a7ce-64cb83751041",
   "metadata": {},
   "outputs": [
    {
     "name": "stdout",
     "output_type": "stream",
     "text": [
      "[0, 1, 1, 2, 3, 5, 8, 13, 21, 34]\n"
     ]
    }
   ],
   "source": [
    "def my_fibonacci(n):\n",
    "    fib_list = [ ]\n",
    "    a,b = 0 , 1\n",
    "    for _ in range(n):\n",
    "        fib_list.append(a)\n",
    "        a, b = b , a+b\n",
    "    return fib_list\n",
    "\n",
    "if __name__==\"__main__\":\n",
    "    print(my_fibonacci(10))"
   ]
  },
  {
   "cell_type": "markdown",
   "id": "dbe3e23f-debe-4d32-aa87-dafce0f8e907",
   "metadata": {},
   "source": [
    "# 4. Write a Python Program to Check Armstrong Number?"
   ]
  },
  {
   "cell_type": "code",
   "execution_count": 62,
   "id": "2f08fc89-ec62-40a5-b7cd-21e13487ad6b",
   "metadata": {},
   "outputs": [
    {
     "name": "stdout",
     "output_type": "stream",
     "text": [
      "this is armstrong\n"
     ]
    }
   ],
   "source": [
    "number = \"153\"\n",
    "power = len(number)\n",
    "\n",
    "new_total = sum(tuple(int(item)**power for item in number))\n",
    "if new_total == int(number):\n",
    "    print(\"this is armstrong\")\n",
    "else:\n",
    "    print(\"this is not armstrong\")"
   ]
  },
  {
   "cell_type": "markdown",
   "id": "85e6c471-dc65-453b-a153-c5c617ebeaad",
   "metadata": {},
   "source": [
    "# 5. write a python program to print the reverse string."
   ]
  },
  {
   "cell_type": "code",
   "execution_count": 56,
   "id": "2664a684-ffeb-461b-a973-f67f5d1da92c",
   "metadata": {},
   "outputs": [
    {
     "name": "stdout",
     "output_type": "stream",
     "text": [
      "p \n",
      "yp \n",
      "typ \n",
      "htyp \n",
      "ohtyp \n",
      "nohtyp \n"
     ]
    }
   ],
   "source": [
    "# with for loop\n",
    "\n",
    "string = \"python\"\n",
    "reversed_string = \" \"\n",
    "for char in string:\n",
    "    \n",
    "    reversed_string = char + reversed_string\n",
    "    print(reversed_string)"
   ]
  },
  {
   "cell_type": "markdown",
   "id": "b0799f11-04ac-4f1f-a104-416cd8836e82",
   "metadata": {},
   "source": [
    "# 6. Write a Python Program to Find Armstrong Number in an Interval?"
   ]
  },
  {
   "cell_type": "code",
   "execution_count": 17,
   "id": "0d50b0a6-12c0-43fd-99c2-a4b33d2e23ca",
   "metadata": {},
   "outputs": [
    {
     "name": "stdin",
     "output_type": "stream",
     "text": [
      "Enter the start number of the interval:  1\n",
      "Enter the last number of the interval:  1000\n"
     ]
    },
    {
     "name": "stdout",
     "output_type": "stream",
     "text": [
      "[1, 2, 3, 4, 5, 6, 7, 8, 9, 153, 370, 371, 407]\n"
     ]
    }
   ],
   "source": [
    "def check_armstrong(first, last):\n",
    "    arm_list = [ ]\n",
    "    for i in range(first, last + 1):\n",
    "        total = 0\n",
    "        flag = i\n",
    "        power = len(str(i))\n",
    "        while i != 0:\n",
    "            total = total + (i % 10)** power\n",
    "            i //=10\n",
    "        if total == flag:\n",
    "            arm_list.append(flag)\n",
    "    return arm_list\n",
    "\n",
    "if __name__==\"__main__\":\n",
    "    try:\n",
    "        first = int(input(\"Enter the start number of the interval: \"))\n",
    "        last = int(input(\"Enter the last number of the interval: \"))\n",
    "        print(check_armstrong(first, last))\n",
    "\n",
    "    except Exception as e:\n",
    "        print(\"Only number are allowed\", e)"
   ]
  },
  {
   "cell_type": "markdown",
   "id": "d8db4a3f-07dc-482d-933c-e2c5acccf44c",
   "metadata": {},
   "source": [
    "# 7. Write a Python Program to Find the Sum of Natural Numbers?"
   ]
  },
  {
   "cell_type": "code",
   "execution_count": 19,
   "id": "3cde5bf8-7404-457b-aca6-11324fa5db3e",
   "metadata": {},
   "outputs": [
    {
     "name": "stdin",
     "output_type": "stream",
     "text": [
      "Enter the first number 1\n",
      "Enter the last number 20\n"
     ]
    },
    {
     "name": "stdout",
     "output_type": "stream",
     "text": [
      " sum of natural number between 1 and 20 is 210\n"
     ]
    }
   ],
   "source": [
    "def sum_of_natural_num(first, last):\n",
    "    total = 0\n",
    "    while first <= last:\n",
    "        total = total + first\n",
    "        first += 1\n",
    "    return total\n",
    "\n",
    "if __name__ == \"__main__\":\n",
    "    try:\n",
    "        first = int(input(\"Enter the first number\"))\n",
    "        last = int(input(\"Enter the last number\"))\n",
    "        print(f\" sum of natural number between {first} and {last} is {sum_of_natural_num(first, last)}\")\n",
    "    except Exception as e:\n",
    "        print(\"Only number are allowed\", e)"
   ]
  }
 ],
 "metadata": {
  "kernelspec": {
   "display_name": "Python 3 (ipykernel)",
   "language": "python",
   "name": "python3"
  },
  "language_info": {
   "codemirror_mode": {
    "name": "ipython",
    "version": 3
   },
   "file_extension": ".py",
   "mimetype": "text/x-python",
   "name": "python",
   "nbconvert_exporter": "python",
   "pygments_lexer": "ipython3",
   "version": "3.12.4"
  }
 },
 "nbformat": 4,
 "nbformat_minor": 5
}
