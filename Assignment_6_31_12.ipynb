{
 "cells": [
  {
   "cell_type": "markdown",
   "id": "70690c19-8acd-417c-9d51-3cde98b7f527",
   "metadata": {},
   "source": [
    "# 1. Write a Python Program to Find Factorial of Number Using Recursion?"
   ]
  },
  {
   "cell_type": "code",
   "execution_count": 16,
   "id": "ca32b400-81f7-4cae-9604-b3079d3d9285",
   "metadata": {},
   "outputs": [
    {
     "name": "stdout",
     "output_type": "stream",
     "text": [
      "number :  5\n",
      "Factorial :  120\n"
     ]
    }
   ],
   "source": [
    "def factorial(n): \n",
    "     \n",
    "    if (n==1 or n==0):\n",
    "         \n",
    "        return 1\n",
    "     \n",
    "    else:\n",
    "         \n",
    "        return (n * factorial(n - 1)) \n",
    " \n",
    "num = 5; \n",
    "print(\"number : \",num)\n",
    "print(\"Factorial : \",factorial(num))"
   ]
  },
  {
   "cell_type": "code",
   "execution_count": 24,
   "id": "fb7f0372-f16c-4873-9f66-72b9a015d77d",
   "metadata": {},
   "outputs": [
    {
     "data": {
      "text/plain": [
       "120"
      ]
     },
     "execution_count": 24,
     "metadata": {},
     "output_type": "execute_result"
    }
   ],
   "source": [
    "def factorial(num):\n",
    "    if (num == 0 or num == 1):\n",
    "        return 1\n",
    "    return num * factorial(num-1)\n",
    "\n",
    "factorial(5)"
   ]
  },
  {
   "cell_type": "markdown",
   "id": "e48c47da-9e34-4d4a-9674-9b9f84040d72",
   "metadata": {},
   "source": [
    "# 2. Write a Python Program to Display Fibonacci Sequence Using Recursion?"
   ]
  },
  {
   "cell_type": "code",
   "execution_count": 43,
   "id": "92e4beb9-4a30-4090-9dd6-663f83dd3c88",
   "metadata": {},
   "outputs": [
    {
     "name": "stdout",
     "output_type": "stream",
     "text": [
      "Fibonacci sequence:\n",
      "0\n",
      "1\n",
      "1\n",
      "2\n",
      "3\n",
      "5\n",
      "8\n",
      "13\n",
      "21\n",
      "34\n"
     ]
    }
   ],
   "source": [
    "# Python program to display the Fibonacci sequence\n",
    "\n",
    "def recur_fibo(n):\n",
    "   if n <= 1:\n",
    "       return n\n",
    "   else:\n",
    "       return(recur_fibo(n-1) + recur_fibo(n-2))\n",
    "\n",
    "nterms = 10\n",
    "\n",
    "# check if the number of terms is valid\n",
    "if nterms <= 0:\n",
    "   print(\"Plese enter a positive integer\")\n",
    "else:\n",
    "   print(\"Fibonacci sequence:\")\n",
    "   for i in range(nterms):\n",
    "       print(recur_fibo(i))"
   ]
  },
  {
   "cell_type": "markdown",
   "id": "8267fffe-5748-4795-ac4e-9971dc3ee58c",
   "metadata": {},
   "source": [
    "# 3. Write a Python Program to calculate your Body Mass Index?"
   ]
  },
  {
   "cell_type": "code",
   "execution_count": 51,
   "id": "514dd22f-2dd5-4550-b197-bf594670e390",
   "metadata": {},
   "outputs": [
    {
     "name": "stdout",
     "output_type": "stream",
     "text": [
      "The BMI is 21.64532402096181 so Healthy\n"
     ]
    }
   ],
   "source": [
    "def BMI(height, weight): \n",
    "\tbmi = weight/(height**2) \n",
    "\treturn bmi \n",
    "\n",
    "height = 1.79832\n",
    "weight = 70\n",
    "\n",
    "# calling the BMI function \n",
    "bmi = BMI(height, weight) \n",
    "print(\"The BMI is\", format(bmi), \"so \", end='') \n",
    "\n",
    "# Conditions to find out BMI category \n",
    "if (bmi < 18.5): \n",
    "\tprint(\"underweight\") \n",
    "\n",
    "elif ( bmi >= 18.5 and bmi < 24.9): \n",
    "\tprint(\"Healthy\") \n",
    "\n",
    "elif ( bmi >= 24.9 and bmi < 30): \n",
    "\tprint(\"overweight\") \n",
    "\n",
    "elif ( bmi >=30): \n",
    "\tprint(\"Suffering from Obesity\") \n"
   ]
  },
  {
   "cell_type": "code",
   "execution_count": 59,
   "id": "e93851b2-5b20-4914-8371-21abe39589bb",
   "metadata": {},
   "outputs": [
    {
     "name": "stdout",
     "output_type": "stream",
     "text": [
      "The BMI is 21.64532402096181 "
     ]
    }
   ],
   "source": [
    "def BMI(height, weight):\n",
    "    bmi = (weight / height**2)\n",
    "    return bmi\n",
    "\n",
    "height = 1.79832\n",
    "weight = 70\n",
    "\n",
    "bmi = BMI(height, weight)\n",
    "print(\"The BMI is\" , format(bmi), end =\" \")\n"
   ]
  },
  {
   "cell_type": "markdown",
   "id": "d7df96b0-b792-450a-a04a-6f40d16fb643",
   "metadata": {},
   "source": [
    "# 4. Write a Python Program to calculate the natural logarithm of any number? "
   ]
  },
  {
   "cell_type": "code",
   "execution_count": 62,
   "id": "16e6e059-2425-4e0d-b871-e6be16d1532e",
   "metadata": {},
   "outputs": [
    {
     "name": "stdout",
     "output_type": "stream",
     "text": [
      "Logarithm base 10 of 14 is : 1.146128035678238\n"
     ]
    }
   ],
   "source": [
    "import math\n",
    "\n",
    "# Printing the log base 10 of 14\n",
    "print (\"Logarithm base 10 of 14 is : \", end=\"\")\n",
    "print (math.log10(14))"
   ]
  },
  {
   "cell_type": "markdown",
   "id": "7cc6e2f1-b44b-4468-a2c9-e8c69dc4129c",
   "metadata": {},
   "source": [
    "# 5. Write a Python Program for cube sum of first n natural numbers?"
   ]
  },
  {
   "cell_type": "code",
   "execution_count": 93,
   "id": "6ba7aea5-f99c-40a6-9af5-38cd85ed43ac",
   "metadata": {},
   "outputs": [
    {
     "name": "stdout",
     "output_type": "stream",
     "text": [
      "1625625\n"
     ]
    }
   ],
   "source": [
    "n = 50\n",
    "sum = 0\n",
    "for i in range(1, n + 1):\n",
    "    sum = sum +(i**3)\n",
    "print(sum)"
   ]
  },
  {
   "cell_type": "code",
   "execution_count": 87,
   "id": "de8d66ca-8e99-4674-9fe9-35d3e65f6c6a",
   "metadata": {},
   "outputs": [
    {
     "name": "stdout",
     "output_type": "stream",
     "text": [
      "1625625\n"
     ]
    }
   ],
   "source": [
    "def sumOfSeries(n):\n",
    "    sum = 0\n",
    "    for i in range(1, n+1):\n",
    "        sum += i * i* i\n",
    "    return sum\n",
    "\n",
    "n = 50\n",
    "print(sumOfSeries(n))"
   ]
  },
  {
   "cell_type": "code",
   "execution_count": null,
   "id": "2b165c7c-9b3c-4138-9751-5e8b61590ffd",
   "metadata": {},
   "outputs": [],
   "source": []
  }
 ],
 "metadata": {
  "kernelspec": {
   "display_name": "Python 3 (ipykernel)",
   "language": "python",
   "name": "python3"
  },
  "language_info": {
   "codemirror_mode": {
    "name": "ipython",
    "version": 3
   },
   "file_extension": ".py",
   "mimetype": "text/x-python",
   "name": "python",
   "nbconvert_exporter": "python",
   "pygments_lexer": "ipython3",
   "version": "3.12.4"
  }
 },
 "nbformat": 4,
 "nbformat_minor": 5
}
