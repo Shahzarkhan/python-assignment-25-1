{
 "cells": [
  {
   "cell_type": "markdown",
   "id": "11c7b9b2-0e2f-4824-ac26-e888904525c6",
   "metadata": {},
   "source": [
    "# 1. Write a Python Program to Find LCM?"
   ]
  },
  {
   "cell_type": "code",
   "execution_count": 19,
   "id": "77ace10f-9e20-4948-92f0-2e1645ffc924",
   "metadata": {},
   "outputs": [
    {
     "name": "stdin",
     "output_type": "stream",
     "text": [
      "Enter the first number:  54\n",
      "Enter the second number:  24\n"
     ]
    },
    {
     "name": "stdout",
     "output_type": "stream",
     "text": [
      "The L.C.M of54 and 24 : 216\n"
     ]
    }
   ],
   "source": [
    "def compute_lcm(x, y):\n",
    "    if x > y:\n",
    "        greater = x\n",
    "    else:\n",
    "        greater = y\n",
    "    while(True):\n",
    "        if((greater % x == 0 and greater % y == 0)):\n",
    "            lcm = greater\n",
    "            break\n",
    "        greater += 1\n",
    "    return lcm\n",
    "\n",
    "num1 = int(input(\"Enter the first number: \"))\n",
    "num2 = int(input(\"Enter the second number: \"))\n",
    "\n",
    "print(f\"The L.C.M of{num1} and {num2} :\", compute_lcm(num1, num2))"
   ]
  },
  {
   "cell_type": "markdown",
   "id": "52fd1304-0d1a-4197-af8b-29d01f03e695",
   "metadata": {},
   "source": [
    "# 2. Write a Python Program to Find HCF?"
   ]
  },
  {
   "cell_type": "code",
   "execution_count": 17,
   "id": "5fcad084-cf9e-49f8-9fa5-e4b7c7c3fef1",
   "metadata": {},
   "outputs": [
    {
     "name": "stdin",
     "output_type": "stream",
     "text": [
      "enter the 1st number:  24\n",
      "enter the 2nd number:  36\n"
     ]
    },
    {
     "name": "stdout",
     "output_type": "stream",
     "text": [
      "the hcf of 24 and 36 :  12\n"
     ]
    }
   ],
   "source": [
    "def hcf(a,b):\n",
    "    while b:\n",
    "        a, b = b , a % b\n",
    "    return a\n",
    "\n",
    "num1 = int(input(\"enter the 1st number: \"))\n",
    "num2 = int(input(\"enter the 2nd number: \"))\n",
    "print(f\"the hcf of {num1} and {num2} : \", hcf(num1 , num2))"
   ]
  },
  {
   "cell_type": "code",
   "execution_count": 19,
   "id": "69e498ab-2944-497a-aa15-c62d9a26b566",
   "metadata": {},
   "outputs": [
    {
     "name": "stdout",
     "output_type": "stream",
     "text": [
      "12\n"
     ]
    }
   ],
   "source": [
    "num1 = 24\n",
    "num2 = 36\n",
    "if num1 < num2 :\n",
    "    smaller = num1\n",
    "else:\n",
    "    smaller = num2\n",
    "\n",
    "hcf = 1\n",
    "for i in range (1 , smaller + 1):\n",
    "    if num1 % i == 0 and num2 % i == 0:\n",
    "        hcf = i\n",
    "\n",
    "print(hcf)"
   ]
  },
  {
   "cell_type": "code",
   "execution_count": 25,
   "id": "2b5f0d8e-429b-4bda-8027-b82783c0aa2d",
   "metadata": {},
   "outputs": [
    {
     "name": "stdin",
     "output_type": "stream",
     "text": [
      "Enter the first number:  24\n",
      "Enter the second number:  36\n"
     ]
    },
    {
     "name": "stdout",
     "output_type": "stream",
     "text": [
      "12\n"
     ]
    }
   ],
   "source": [
    "# this code is better compare to upper one cause of time complexity\n",
    "num1 = int(input(\"Enter the first number: \"))\n",
    "num2 = int(input(\"Enter the second number: \"))\n",
    "\n",
    "if num1 < num2:\n",
    "    divisor = num1\n",
    "    dividend = num2\n",
    "\n",
    "else:\n",
    "    divisor = num2\n",
    "    dividend = num1\n",
    "\n",
    "remainder = dividend % divisor\n",
    "while remainder != 0 :\n",
    "    dividend = divisor\n",
    "    divisor = remainder\n",
    "    remainder = dividend % divisor\n",
    "\n",
    "print(divisor)"
   ]
  },
  {
   "cell_type": "markdown",
   "id": "bf98ff8d-7f1d-4114-aac6-d2efe98f5bbb",
   "metadata": {},
   "source": [
    "# 3. Write a Python Program to Convert Decimal to Binary, Octal and Hexadecimal?"
   ]
  },
  {
   "cell_type": "code",
   "execution_count": 24,
   "id": "236cb019-04ee-4e96-a186-cbf9afd8fe27",
   "metadata": {},
   "outputs": [
    {
     "name": "stdout",
     "output_type": "stream",
     "text": [
      "0b111001\n",
      "0o71\n",
      "0x39\n"
     ]
    }
   ],
   "source": [
    "number = 57\n",
    "\n",
    "print(bin(number))\n",
    "print(oct(number))\n",
    "print(hex(number))"
   ]
  },
  {
   "cell_type": "code",
   "execution_count": 35,
   "id": "dc4d3c06-3ac1-4633-8cad-d2d74cfa0651",
   "metadata": {},
   "outputs": [
    {
     "name": "stdin",
     "output_type": "stream",
     "text": [
      "Enter the number:  57\n"
     ]
    },
    {
     "name": "stdout",
     "output_type": "stream",
     "text": [
      "0b101011000 in binary.\n",
      "0o530 in octal.\n",
      "0x158 in hexadecimal.\n"
     ]
    }
   ],
   "source": [
    "# Python program to convert decimal into other number systems\n",
    "number = int(input(\"Enter the number: \"))\n",
    "\n",
    "\n",
    "print(bin(dec), \"in binary.\")\n",
    "print(oct(dec), \"in octal.\")\n",
    "print(hex(dec), \"in hexadecimal.\")\n"
   ]
  },
  {
   "cell_type": "markdown",
   "id": "1a59e31c-4ce9-4a9c-ba89-1b1db46fb22d",
   "metadata": {},
   "source": [
    "# 4. Write a Python Program To Find ASCII value of a character?"
   ]
  },
  {
   "cell_type": "code",
   "execution_count": 37,
   "id": "a52f3c28-0c1c-4ecb-995a-6b6891a841d7",
   "metadata": {},
   "outputs": [
    {
     "name": "stdout",
     "output_type": "stream",
     "text": [
      "ASCII value of a is: 97\n"
     ]
    }
   ],
   "source": [
    "def find_ASCII_value(char):\n",
    "    return ord(char)\n",
    "\n",
    "character = 'a'\n",
    "print(\"The ASCII value of\", character, \"is:\", find_ASCII_value(character))"
   ]
  },
  {
   "cell_type": "markdown",
   "id": "a7f70771-0ed2-457e-87ae-033c37aaed86",
   "metadata": {},
   "source": [
    "# 5. Write a Python Program to Make a Simple Calculator with 4 basic mathematical operations?"
   ]
  },
  {
   "cell_type": "code",
   "execution_count": null,
   "id": "832cde17-4775-4c03-928c-ee36f7a31a87",
   "metadata": {},
   "outputs": [
    {
     "name": "stdout",
     "output_type": "stream",
     "text": [
      "Please select operation -\n",
      "1. Add\n",
      "2. Subtract\n",
      "3. Multiply\n",
      "4. Divide\n",
      "\n"
     ]
    }
   ],
   "source": [
    "# Python program for simple calculator\n",
    "\n",
    "# Function to add two numbers\n",
    "def add(num1, num2):\n",
    "    return num1 + num2\n",
    "\n",
    "# Function to subtract two numbers\n",
    "def subtract(num1, num2):\n",
    "    return num1 - num2\n",
    "\n",
    "# Function to multiply two numbers\n",
    "def multiply(num1, num2):\n",
    "    return num1 * num2\n",
    "\n",
    "# Function to divide two numbers\n",
    "def divide(num1, num2):\n",
    "    return num1 / num2\n",
    "\n",
    "print(\"Please select operation -\\n\" \\\n",
    "        \"1. Add\\n\" \\\n",
    "        \"2. Subtract\\n\" \\\n",
    "        \"3. Multiply\\n\" \\\n",
    "        \"4. Divide\\n\")\n",
    "\n",
    "\n",
    "# Take input from the user\n",
    "select = int(input(\"Select operations form 1, 2, 3, 4 :\"))\n",
    "\n",
    "number_1 = int(input(\"Enter first number: \"))\n",
    "number_2 = int(input(\"Enter second number: \"))\n",
    "\n",
    "if select == 1:\n",
    "    print(number_1, \"+\", number_2, \"=\",\n",
    "                    add(number_1, number_2))\n",
    "\n",
    "elif select == 2:\n",
    "    print(number_1, \"-\", number_2, \"=\",\n",
    "                    subtract(number_1, number_2))\n",
    "\n",
    "elif select == 3:\n",
    "    print(number_1, \"*\", number_2, \"=\",\n",
    "                    multiply(number_1, number_2))\n",
    "\n",
    "elif select == 4:\n",
    "    print(number_1, \"/\", number_2, \"=\",\n",
    "                    divide(number_1, number_2))\n",
    "else:\n",
    "    print(\"Invalid input\")"
   ]
  },
  {
   "cell_type": "code",
   "execution_count": null,
   "id": "a232f5e3-50c8-4644-9664-b59607f3ad88",
   "metadata": {},
   "outputs": [],
   "source": []
  }
 ],
 "metadata": {
  "kernelspec": {
   "display_name": "Python 3 (ipykernel)",
   "language": "python",
   "name": "python3"
  },
  "language_info": {
   "codemirror_mode": {
    "name": "ipython",
    "version": 3
   },
   "file_extension": ".py",
   "mimetype": "text/x-python",
   "name": "python",
   "nbconvert_exporter": "python",
   "pygments_lexer": "ipython3",
   "version": "3.12.4"
  }
 },
 "nbformat": 4,
 "nbformat_minor": 5
}
