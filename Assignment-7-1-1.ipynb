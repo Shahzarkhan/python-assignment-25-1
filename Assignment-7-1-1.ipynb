{
 "cells": [
  {
   "cell_type": "markdown",
   "id": "91c7828c-db44-4842-b6aa-f67bc7a9b6f6",
   "metadata": {},
   "source": [
    "# 1. Write a Python Program to find sum of array?"
   ]
  },
  {
   "cell_type": "code",
   "execution_count": 2,
   "id": "2b659f1a-61ac-4efc-8c4f-d4412817c6aa",
   "metadata": {},
   "outputs": [],
   "source": [
    "import array as array\n",
    "\n",
    "my_array = array.array(\"i\",[1,2,3,4,5])"
   ]
  },
  {
   "cell_type": "code",
   "execution_count": 4,
   "id": "e67fd469-b014-4d10-9b42-90072604fc2f",
   "metadata": {},
   "outputs": [
    {
     "data": {
      "text/plain": [
       "15"
      ]
     },
     "execution_count": 4,
     "metadata": {},
     "output_type": "execute_result"
    }
   ],
   "source": [
    "sum(my_array)"
   ]
  },
  {
   "cell_type": "code",
   "execution_count": 8,
   "id": "2f550986-4709-40f7-a9cc-d6fc703b2db3",
   "metadata": {},
   "outputs": [
    {
     "name": "stdout",
     "output_type": "stream",
     "text": [
      "1\n",
      "2\n",
      "3\n",
      "4\n",
      "5\n"
     ]
    }
   ],
   "source": [
    "for item in my_array:\n",
    "    print(item)"
   ]
  },
  {
   "cell_type": "code",
   "execution_count": 14,
   "id": "fb63f287-e330-4399-8270-40200f085b2f",
   "metadata": {},
   "outputs": [
    {
     "name": "stdout",
     "output_type": "stream",
     "text": [
      "15\n"
     ]
    }
   ],
   "source": [
    "list1 = [1,2,3,4,5]\n",
    "total = 0\n",
    "\n",
    "for item in list1:\n",
    "    total = total + item\n",
    "print(total)"
   ]
  },
  {
   "cell_type": "code",
   "execution_count": 22,
   "id": "551a1607-a1dd-42c5-bf92-86f95136e967",
   "metadata": {},
   "outputs": [
    {
     "name": "stdin",
     "output_type": "stream",
     "text": [
      "Enter your numbers sep by comma 1,2,3,4,5\n"
     ]
    },
    {
     "name": "stdout",
     "output_type": "stream",
     "text": [
      "15\n"
     ]
    }
   ],
   "source": [
    "def total_maker(list1):\n",
    "    total = 0\n",
    "    for item in my_list:\n",
    "        total = total + item\n",
    "    return total\n",
    "\n",
    "if __name__==\"__main__\":\n",
    "    list1 = input(\"Enter your numbers sep by comma\")\n",
    "    print(total_maker(list1))"
   ]
  },
  {
   "cell_type": "code",
   "execution_count": 43,
   "id": "c0c914b5-066a-4181-80d2-91ad5ce5a018",
   "metadata": {},
   "outputs": [
    {
     "name": "stdin",
     "output_type": "stream",
     "text": [
      "Enter your numbers sept by comma 1,2,3,4\n"
     ]
    },
    {
     "name": "stdout",
     "output_type": "stream",
     "text": [
      "1,2,3,4\n",
      "['1', '2', '3', '4']\n",
      "[1, 2, 3, 4]\n"
     ]
    }
   ],
   "source": [
    "# when we wan get the input of list from the user \n",
    "\n",
    "list1 = input(\"Enter your numbers sept by comma\")\n",
    "print(list1)\n",
    "\n",
    "new_list = list1.split(\",\")\n",
    "print(new_list)\n",
    "\n",
    "new_list = list(map(int,new_list))\n",
    "print(new_list)"
   ]
  },
  {
   "cell_type": "code",
   "execution_count": 39,
   "id": "5aa7b3f8-0183-450d-9761-8dd9d8024f17",
   "metadata": {},
   "outputs": [
    {
     "name": "stdin",
     "output_type": "stream",
     "text": [
      "Enter your numbers sept by comma 1,2,3,4\n"
     ]
    },
    {
     "name": "stdout",
     "output_type": "stream",
     "text": [
      "[1, 2, 3, 4]\n"
     ]
    }
   ],
   "source": [
    "list1 = list(map(int,input(\"Enter your numbers sept by comma\").split(\",\")))\n",
    "print(list1)"
   ]
  },
  {
   "cell_type": "markdown",
   "id": "91142869-611f-4ea5-822d-f9654f4b1306",
   "metadata": {},
   "source": [
    "# 2. Write a Python Program to find largest element in an array?"
   ]
  },
  {
   "cell_type": "code",
   "execution_count": 37,
   "id": "19d86eb8-6c2f-4b2b-bf3b-0b8612a38ff5",
   "metadata": {},
   "outputs": [
    {
     "data": {
      "text/plain": [
       "300"
      ]
     },
     "execution_count": 37,
     "metadata": {},
     "output_type": "execute_result"
    }
   ],
   "source": [
    "list1 = [1,2,300,4,5]\n",
    "\n",
    "largest = list1[0]\n",
    "for item in list1:\n",
    "    if largest < item:\n",
    "        largest = item\n",
    "# print(largest)\n",
    "max(list1)"
   ]
  },
  {
   "cell_type": "markdown",
   "id": "54320b56-4e10-4a52-9947-801e0f09046c",
   "metadata": {},
   "source": [
    "# 3. Write a Python Program for array rotation?"
   ]
  },
  {
   "cell_type": "code",
   "execution_count": 60,
   "id": "60d1c705-ba8c-4074-935a-f052eb0d80b1",
   "metadata": {},
   "outputs": [
    {
     "name": "stdout",
     "output_type": "stream",
     "text": [
      "deque([100, 499, 300, 200, 700, 800])\n",
      "deque([300, 200, 700, 800, 100, 499])\n"
     ]
    }
   ],
   "source": [
    "from collections import deque\n",
    "\n",
    "d = deque([100, 499, 300, 200,700,800])\n",
    "print(d)\n",
    "d.rotate(4)\n",
    "print(d)"
   ]
  },
  {
   "cell_type": "markdown",
   "id": "f6680379-b759-4493-991e-a948802bb78e",
   "metadata": {},
   "source": [
    "# 4. Write a Python Program to Split the array and add the first part to the end?"
   ]
  },
  {
   "cell_type": "code",
   "execution_count": 74,
   "id": "a21f0de8-e168-4120-a65b-e1c0bd8b3d06",
   "metadata": {},
   "outputs": [
    {
     "name": "stdout",
     "output_type": "stream",
     "text": [
      "[6, 7, 8, 9, 10, 1, 2, 3, 4, 5]\n"
     ]
    }
   ],
   "source": [
    "stop = 5\n",
    "list1 = [1,2,3,4,5,6,7,8,9,10]\n",
    "\n",
    "first_part = list1[:stop]\n",
    "second_part = list1[stop:]\n",
    "\n",
    "print(second_part + first_part)"
   ]
  },
  {
   "cell_type": "markdown",
   "id": "071b2fd9-3bf3-42b0-a688-e1430b9c35e9",
   "metadata": {},
   "source": [
    "# 5. Write a Python Program to check if given array is Monotonic?"
   ]
  },
  {
   "cell_type": "code",
   "execution_count": 77,
   "id": "d0d019f6-8a33-4739-9c94-2e7dc08e64db",
   "metadata": {},
   "outputs": [],
   "source": [
    "# monotic means when the array or list is in increasing and decreasing order.\n",
    "monotonic = [1,2,3,4]\n",
    "monotonic = [4,3,2,1]\n",
    "monotonic = [5,5,4,1]\n",
    "non_monotonic = [5,4,3,6,8,1]"
   ]
  },
  {
   "cell_type": "code",
   "execution_count": 97,
   "id": "79692e36-e8de-4830-824e-9bab7024052d",
   "metadata": {},
   "outputs": [
    {
     "name": "stdout",
     "output_type": "stream",
     "text": [
      "non monotonic\n"
     ]
    }
   ],
   "source": [
    "list1 = [1,2,3,4,5,6]       \n",
    "\n",
    "# if we want print mono we can change the \n",
    "if all(list1[i] <= list1[i+1] for i in range(len(list1)-1)) or all(list1[i] <= list1[i+1] for i in range(len(list1)-1)):\n",
    "    print(\"monotonic\")\n",
    "else:\n",
    "    print(\"non monotonic\")\n",
    "    "
   ]
  }
 ],
 "metadata": {
  "kernelspec": {
   "display_name": "Python 3 (ipykernel)",
   "language": "python",
   "name": "python3"
  },
  "language_info": {
   "codemirror_mode": {
    "name": "ipython",
    "version": 3
   },
   "file_extension": ".py",
   "mimetype": "text/x-python",
   "name": "python",
   "nbconvert_exporter": "python",
   "pygments_lexer": "ipython3",
   "version": "3.12.4"
  }
 },
 "nbformat": 4,
 "nbformat_minor": 5
}
