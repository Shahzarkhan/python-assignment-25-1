{
 "cells": [
  {
   "cell_type": "markdown",
   "id": "0cc02634-30b0-4417-9383-c89c24dca5fe",
   "metadata": {},
   "source": [
    "# 1. Write a Python Program to Check if a Number is Positive, Negative or Zero?"
   ]
  },
  {
   "cell_type": "code",
   "execution_count": 7,
   "id": "83eb498a-c476-4573-b384-1f2caae550ac",
   "metadata": {},
   "outputs": [
    {
     "name": "stdin",
     "output_type": "stream",
     "text": [
      "Enter your digit:  7\n"
     ]
    },
    {
     "name": "stdout",
     "output_type": "stream",
     "text": [
      "positive\n"
     ]
    }
   ],
   "source": [
    "def check_num(number):\n",
    "    if number > 0:\n",
    "        return \"positive\"\n",
    "\n",
    "    if number < 0:\n",
    "        return \"negative\"\n",
    "\n",
    "    if number == 0:\n",
    "        return \"zero not allowed\"\n",
    "\n",
    "try:\n",
    "    number = int(input(\"Enter your digit: \"))\n",
    "    print(check_num(number))\n",
    "\n",
    "except exception as e:\n",
    "    print(\"only numbers are allowed\", e)"
   ]
  },
  {
   "cell_type": "markdown",
   "id": "428d1a05-37e5-45a5-a7f0-e6c21958aa88",
   "metadata": {},
   "source": [
    "# 2. Write a Python Program to Check if a Number is Odd or Even?"
   ]
  },
  {
   "cell_type": "markdown",
   "id": "f836ff15-f9c0-4461-8a75-46d4c80ce579",
   "metadata": {},
   "source": [
    "def check_num(number):\n",
    "    if number % 2 == 0:\n",
    "        return \"number is even\"\n",
    "    if number % 2 != 0:\n",
    "        return \"number is odd\"\n",
    "    if number == 0:\n",
    "        return \"zero not allowed\"\n",
    "\n",
    "try:\n",
    "    number = int(input(\"Enter the number: \"))\n",
    "    print(check_num(number))\n",
    "\n",
    "except Exception as e:\n",
    "    print(\"only number are allowed\", e)"
   ]
  },
  {
   "cell_type": "markdown",
   "id": "29cd5a4a-c9fe-4f55-baad-6e4ed462611c",
   "metadata": {},
   "source": [
    "# 3. Write a Python Program to Check Leap Year?"
   ]
  },
  {
   "cell_type": "code",
   "execution_count": 23,
   "id": "45ed7d04-4c47-4e52-9c8a-0aa0cbf1dc53",
   "metadata": {},
   "outputs": [
    {
     "name": "stdin",
     "output_type": "stream",
     "text": [
      "Enter the number:  2025\n"
     ]
    },
    {
     "name": "stdout",
     "output_type": "stream",
     "text": [
      "None\n"
     ]
    }
   ],
   "source": [
    "def check_leap_year(number):\n",
    "    if (number % 4 == 0 and number % 100 != 0) or (number % 400 == 0):\n",
    "        return \"This is leap year\"\n",
    "    else:\n",
    "        \"This is not leap year\"\n",
    "\n",
    "try:\n",
    "    number = int(input(\"Enter the number: \"))\n",
    "    print(check_leap_year(number))\n",
    "\n",
    "except Exception as e:\n",
    "    print(\"only number are allowed\", e)"
   ]
  },
  {
   "cell_type": "markdown",
   "id": "9cb309e0-b301-4ebf-95d8-d0b0c28ec573",
   "metadata": {},
   "source": [
    "# 4. Write a Python Program to Check Prime Number?"
   ]
  },
  {
   "cell_type": "code",
   "execution_count": 48,
   "id": "9e3264c5-7d34-471c-b32d-36bf845af39a",
   "metadata": {},
   "outputs": [
    {
     "name": "stdin",
     "output_type": "stream",
     "text": [
      "Enter the number:  7\n"
     ]
    },
    {
     "name": "stdout",
     "output_type": "stream",
     "text": [
      "This is a prime number\n",
      "None\n"
     ]
    }
   ],
   "source": [
    "def check_prime_number(num):\n",
    "    for i in range(2, num):\n",
    "        if num % i == 0:\n",
    "            print (\"This is not a prime number\")\n",
    "            break\n",
    "    else:\n",
    "        print(\"This is a prime number\")\n",
    "\n",
    "try:\n",
    "    num = int(input(\"Enter the number: \"))\n",
    "    print(check_prime_number(num))\n",
    "\n",
    "except Exception as e:\n",
    "    print(\"only number are allowed\", e)"
   ]
  },
  {
   "cell_type": "markdown",
   "id": "697ddfc6-2d9c-48a0-92a7-096b67823bdf",
   "metadata": {},
   "source": [
    "# 5. Write a Python Program to Print all Prime Numbers in an Interval of 1-10000?"
   ]
  },
  {
   "cell_type": "code",
   "execution_count": 69,
   "id": "0b435556-1e36-44dd-85c7-c604f012e392",
   "metadata": {},
   "outputs": [
    {
     "name": "stdin",
     "output_type": "stream",
     "text": [
      "Enter the first digit:  1\n",
      "Enter the last digit:  20\n"
     ]
    },
    {
     "name": "stdout",
     "output_type": "stream",
     "text": [
      "Prime numbers: [1, 2, 3, 5, 7, 11, 13, 17, 19]\n",
      "78\n"
     ]
    }
   ],
   "source": [
    "def list_maker(first_digit, last_digit):\n",
    "    list_prime = []\n",
    "    for j in range(first_digit, last_digit + 1):\n",
    "        for i in range(2, int(j ** 0.5) + 1):\n",
    "            if j % i == 0:\n",
    "                break\n",
    "        else:\n",
    "            list_prime.append(j)\n",
    "        \n",
    "    print(\"Prime numbers:\", list_prime)\n",
    "    print(sum(list_prime))\n",
    "\n",
    "try:\n",
    "    first_digit = int(input(\"Enter the first digit: \"))\n",
    "    last_digit = int(input(\"Enter the last digit: \"))\n",
    "    list_maker(first_digit, last_digit)\n",
    "\n",
    "except Exception as e:\n",
    "    print(\"only numbers are allowed\")"
   ]
  }
 ],
 "metadata": {
  "kernelspec": {
   "display_name": "Python 3 (ipykernel)",
   "language": "python",
   "name": "python3"
  },
  "language_info": {
   "codemirror_mode": {
    "name": "ipython",
    "version": 3
   },
   "file_extension": ".py",
   "mimetype": "text/x-python",
   "name": "python",
   "nbconvert_exporter": "python",
   "pygments_lexer": "ipython3",
   "version": "3.12.4"
  }
 },
 "nbformat": 4,
 "nbformat_minor": 5
}
